{
 "cells": [
  {
   "cell_type": "markdown",
   "id": "d34162b9-2cad-4bb4-914a-dc1d537f72e8",
   "metadata": {},
   "source": [
    "# Title peer grade assignment"
   ]
  },
  {
   "cell_type": "markdown",
   "id": "b32adcd3-a0a2-4c5d-a594-a58c34a22e98",
   "metadata": {},
   "source": [
    "# Introduction"
   ]
  },
  {
   "cell_type": "markdown",
   "id": "144ce376-95f0-40f3-a81f-b2c69ba2acb5",
   "metadata": {},
   "source": [
    "# python,R,SQL,C++,C,java,javascript\n"
   ]
  },
  {
   "cell_type": "markdown",
   "id": "f03ac18b-580e-4691-a838-ac4a4fa3f4a3",
   "metadata": {},
   "source": [
    "# panda,numpy,Matplotlib,seaborn,tensorflow,Keras,pytorch"
   ]
  },
  {
   "cell_type": "markdown",
   "id": "a7fee696-0897-46a2-8008-3301914ea4c8",
   "metadata": {},
   "source": [
    "# SAS,Apache Spark,BigML,D3.js,ggplot2,Tableau,IBM SPSS"
   ]
  },
  {
   "cell_type": "markdown",
   "id": "e723005c-e058-4f26-ac18-ee1c70dcfb0c",
   "metadata": {
    "tags": []
   },
   "source": [
    "# x= 2*x+25,in this expression,first 25 is added to the variable x.After the additional is perfomed, the result is assigned to the variable x"
   ]
  },
  {
   "cell_type": "code",
   "execution_count": 2,
   "id": "b6a5f8d9-21a8-48cf-b7d1-38b57e4d737c",
   "metadata": {},
   "outputs": [
    {
     "name": "stdout",
     "output_type": "stream",
     "text": [
      "45\n"
     ]
    }
   ],
   "source": [
    "x = 10\n",
    "x = 2*x + 25\n",
    "print(x)\n"
   ]
  },
  {
   "cell_type": "code",
   "execution_count": 3,
   "id": "b1e7bbb7-c937-4c79-9708-e12aa6ef9548",
   "metadata": {},
   "outputs": [
    {
     "name": "stdout",
     "output_type": "stream",
     "text": [
      "0.25\n"
     ]
    }
   ],
   "source": [
    "x = 15\n",
    "x = x/60\n",
    "print(x)"
   ]
  },
  {
   "cell_type": "code",
   "execution_count": 5,
   "id": "99a9c665-1495-4368-9168-461f9a1b94b6",
   "metadata": {},
   "outputs": [
    {
     "name": "stdout",
     "output_type": "stream",
     "text": [
      "0.5\n"
     ]
    }
   ],
   "source": [
    "x = 30\n",
    "x = x/60\n",
    "print(x)"
   ]
  },
  {
   "cell_type": "markdown",
   "id": "de1606fe-685d-4ac4-9d34-aea38c36750b",
   "metadata": {},
   "source": [
    "# warahenage lakshika gayan deshantha perera \n"
   ]
  },
  {
   "cell_type": "markdown",
   "id": "bbf75844-422c-40e0-9199-7ab4fd0f99d1",
   "metadata": {},
   "source": [
    "# objectives"
   ]
  }
 ],
 "metadata": {
  "kernelspec": {
   "display_name": "Python",
   "language": "python",
   "name": "conda-env-python-py"
  },
  "language_info": {
   "codemirror_mode": {
    "name": "ipython",
    "version": 3
   },
   "file_extension": ".py",
   "mimetype": "text/x-python",
   "name": "python",
   "nbconvert_exporter": "python",
   "pygments_lexer": "ipython3",
   "version": "3.7.12"
  }
 },
 "nbformat": 4,
 "nbformat_minor": 5
}
